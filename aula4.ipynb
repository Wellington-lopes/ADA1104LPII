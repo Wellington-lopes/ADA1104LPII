{
 "cells": [
  {
   "cell_type": "markdown",
   "metadata": {},
   "source": [
    "# Funções Lambda"
   ]
  },
  {
   "cell_type": "markdown",
   "metadata": {},
   "source": [
    "# Map\n",
    "A função map recebe uma função e uma coleção. Ela irá aplicar a função recebida sobre cada um dos elementos da coleção, retornando uma nova coleção com os retornos de cada uma dessas chamadas.\n",
    "\n",
    "Em Python, a função map retorna um iterador, então cabe a nós convertê-lo para uma estrutura caso necessário, como lista ou tupla."
   ]
  },
  {
   "cell_type": "code",
   "execution_count": null,
   "metadata": {},
   "outputs": [],
   "source": [
    "tupla_str = ('1.0', '3.7', '5.4')\n",
    "tupla_float = tuple(map(float, tupla_str)) # função: float; coleção: tupla_str\n",
    "print(tupla_str, tupla_float)"
   ]
  },
  {
   "cell_type": "code",
   "execution_count": null,
   "metadata": {},
   "outputs": [],
   "source": [
    "def quadrado(x):\n",
    "    return x ** 2\n",
    "numeros = [1, 2, 3, 4]\n",
    "numeros_quadrados = list(map(quadrado, numeros)) # função: quadrado; coleção: numeros\n",
    "print(numeros, numeros_quadrados)"
   ]
  },
  {
   "cell_type": "code",
   "execution_count": null,
   "metadata": {},
   "outputs": [],
   "source": [
    "numeros = [1, 2, 3, 4]\n",
    "numeros_cubo = list(map(lambda x: x**3, numeros))\n",
    "print(numeros, numeros_cubo)"
   ]
  },
  {
   "cell_type": "markdown",
   "metadata": {},
   "source": [
    "# Filter\n",
    "A função filter também recebe uma função que deve retornar um booleano e uma coleção. Ela irá conter apenas os elementos da coleção que provocaram valor True na função passada."
   ]
  },
  {
   "cell_type": "code",
   "execution_count": null,
   "metadata": {},
   "outputs": [],
   "source": [
    "def eh_par(x):\n",
    "    return x % 2 == 0\n",
    "\n",
    "numeros = [3, 6, 4, 8, 7, 9, 2, 5]\n",
    "\n",
    "pares = list(filter(eh_par, numeros)) # função: eh_par; coleção: numeros\n",
    "\n",
    "print(pares)"
   ]
  },
  {
   "cell_type": "code",
   "execution_count": null,
   "metadata": {},
   "outputs": [],
   "source": [
    "def eh_par(x):\n",
    "    return x % 2 == 0\n",
    "\n",
    "numeros = [3, 6, 4, 8, 7, 9, 2, 5]\n",
    "\n",
    "pares = list(filter(eh_par, numeros)) # função: eh_par; coleção: numeros\n",
    "\n",
    "print(pares)"
   ]
  },
  {
   "cell_type": "markdown",
   "metadata": {},
   "source": [
    "# Reduce\n",
    "\n",
    "A última função envolvendo coleções que estudaremos é o reduce. Além da função e da coleção, ele receberá também um valor inicial. Ele irá aplicar a função entre o valor inicial e o primeiro valor da coleção. Em seguida, entre o resultado dessa operação e o segundo valor da coleção. Depois, entre o resultado desta operação e o terceiro valor da coleção, e assim sucessivamente. Ou seja, ele acumula uma operação ao longo de uma coleção. O exemplo mais tradicional é o somatório.\n",
    "\n",
    "Se você possui uma lista contendo os valores [1, 3, 5, 7, 9] e utilizar o reduce com valor inicial 0, ele retornará o resultado de:\n",
    "\n",
    "(((((0 + 1) + 3) + 5) + 7) + 9)\n",
    "\n",
    "No Python, o reduce não é uma função nativa como o map e o filter, e devemos importá-la de functools."
   ]
  },
  {
   "cell_type": "code",
   "execution_count": null,
   "metadata": {},
   "outputs": [],
   "source": [
    "from functools import reduce\n",
    "\n",
    "lista = [1, 3, 5, 7, 9]\n",
    "\n",
    "somatorio = reduce(lambda x, y: x + y, lista, 0) # função: o lambda criado; coleção: lista; valor inicial: 0\n",
    "\n",
    "print(somatorio)\n",
    "\n",
    "# colocando valor inicial 5\n",
    "\n",
    "somatorio_inicial = reduce(lambda x, y: x + y, lista, 5)\n",
    "print(somatorio_inicial)"
   ]
  }
 ],
 "metadata": {
  "language_info": {
   "name": "python"
  }
 },
 "nbformat": 4,
 "nbformat_minor": 2
}
