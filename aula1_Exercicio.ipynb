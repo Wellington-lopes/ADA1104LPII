{
  "nbformat": 4,
  "nbformat_minor": 0,
  "metadata": {
    "colab": {
      "provenance": [],
      "authorship_tag": "ABX9TyP1BMwEteJzorA1Ofr7ICuc",
      "include_colab_link": true
    },
    "kernelspec": {
      "name": "python3",
      "display_name": "Python 3"
    },
    "language_info": {
      "name": "python"
    }
  },
  "cells": [
    {
      "cell_type": "markdown",
      "metadata": {
        "id": "view-in-github",
        "colab_type": "text"
      },
      "source": [
        "<a href=\"https://colab.research.google.com/github/robertosgpontes/ADA1104LPII/blob/main/Aula_1_Exercicio.ipynb\" target=\"_parent\"><img src=\"https://colab.research.google.com/assets/colab-badge.svg\" alt=\"Open In Colab\"/></a>"
      ]
    },
    {
      "cell_type": "markdown",
      "source": [
        "> Faça um programa que imprima o maior número de uma lista, sem usar o método max()"
      ],
      "metadata": {
        "id": "Kho71xSTCdiQ"
      }
    },
    {
      "cell_type": "code",
      "execution_count": 6,
      "metadata": {
        "id": "VvKiQ8whB-he"
      },
      "outputs": [],
      "source": [
        "lista = [3, 67, 89, -100, 34, 0, 7, 4, 100, 1104, 25]"
      ]
    },
    {
      "cell_type": "code",
      "source": [
        "%%timeit\n",
        "max = lista[0]\n",
        "\n",
        "for numero in lista[1:]:\n",
        "  if numero > max:\n",
        "    max = numero"
      ],
      "metadata": {
        "colab": {
          "base_uri": "https://localhost:8080/"
        },
        "id": "5CPOfIlcCIFV",
        "outputId": "5c0cc9eb-265f-46bc-b24c-0e3936868baf"
      },
      "execution_count": 10,
      "outputs": [
        {
          "output_type": "stream",
          "name": "stdout",
          "text": [
            "2.65 µs ± 180 ns per loop (mean ± std. dev. of 7 runs, 100000 loops each)\n"
          ]
        }
      ]
    },
    {
      "cell_type": "code",
      "source": [
        "%%timeit\n",
        "lista.sort()\n",
        "\n",
        "lista[-1]"
      ],
      "metadata": {
        "colab": {
          "base_uri": "https://localhost:8080/"
        },
        "id": "sOo1PcDMC-e4",
        "outputId": "83284bfc-b15d-4f87-cc29-d0e3d1cbf5e7"
      },
      "execution_count": 11,
      "outputs": [
        {
          "output_type": "stream",
          "name": "stdout",
          "text": [
            "222 ns ± 51.1 ns per loop (mean ± std. dev. of 7 runs, 10000000 loops each)\n"
          ]
        }
      ]
    }
  ]
}